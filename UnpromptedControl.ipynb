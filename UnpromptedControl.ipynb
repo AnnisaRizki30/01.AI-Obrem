{
  "nbformat": 4,
  "nbformat_minor": 0,
  "metadata": {
    "colab": {
      "provenance": [],
      "authorship_tag": "ABX9TyOjk8okDWFc5DTxvDZDWeHG",
      "include_colab_link": true
    },
    "kernelspec": {
      "name": "python3",
      "display_name": "Python 3"
    },
    "language_info": {
      "name": "python"
    },
    "accelerator": "GPU",
    "gpuClass": "standard"
  },
  "cells": [
    {
      "cell_type": "markdown",
      "metadata": {
        "id": "view-in-github",
        "colab_type": "text"
      },
      "source": [
        "<a href=\"https://colab.research.google.com/github/vijishmadhavan/UnpromptedControl/blob/master/UnpromptedControl.ipynb\" target=\"_parent\"><img src=\"https://colab.research.google.com/assets/colab-badge.svg\" alt=\"Open In Colab\"/></a>"
      ]
    },
    {
      "cell_type": "code",
      "execution_count": 1,
      "metadata": {
        "cellView": "form",
        "id": "a_UotOVhsR6O"
      },
      "outputs": [],
      "source": [
        "#@title Install requirements\n",
        "\n",
        "!git clone https://github.com/vijishmadhavan/UnpromptedControl\n",
        "%cd UnpromptedControl\n",
        "!pip install gradio\n",
        "!pip install diffusers==0.14.0 xformers transformers scipy ftfy accelerate controlnet_aux\n",
        "!pip install -q opencv-contrib-python\n",
        "!wget https://www.dropbox.com/s/5jencqq4h59fbtb/FT_Epoch_latest.pt\n"
      ]
    },
    {
      "cell_type": "markdown",
      "source": [
        " # Restore or Remove\n",
        "**rest.py - Resotration**\n",
        "\n",
        "\n",
        "**obrem.py - Object removal** \n"
      ],
      "metadata": {
        "id": "j8A0-HGQ0amS"
      }
    },
    {
      "cell_type": "code",
      "source": [
        "gradioLink = \"obrem.py\" #@param [\"rest.py\", \"obrem.py\"]\n",
        "\n",
        "\n",
        "if gradioLink != \"\":\n",
        "   !python {gradioLink}"
      ],
      "metadata": {
        "cellView": "form",
        "id": "DItERo6puDq1"
      },
      "execution_count": null,
      "outputs": []
    }
  ]
}